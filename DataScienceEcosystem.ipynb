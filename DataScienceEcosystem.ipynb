{
  "nbformat": 4,
  "nbformat_minor": 0,
  "metadata": {
    "colab": {
      "provenance": []
    },
    "kernelspec": {
      "name": "python3",
      "display_name": "Python 3"
    },
    "language_info": {
      "name": "python"
    }
  },
  "cells": [
    {
      "cell_type": "markdown",
      "source": [
        "# Herramientas y ecosistema de ciencia de datos"
      ],
      "metadata": {
        "id": "_VnqDZagsfdO"
      }
    },
    {
      "cell_type": "markdown",
      "source": [
        "En este cuaderno se resumen las herramientas y el ecosistema de ciencia de datos."
      ],
      "metadata": {
        "id": "WWi69AFbsxfs"
      }
    },
    {
      "cell_type": "markdown",
      "source": [
        "**Objetivos:**\n",
        "- Listar lenguajes populares en ciencia de datos.\n",
        "- Listado de algunas bibliotecas comunes utilizadas por los cientificos de datos.\n",
        "- Ejemplos de operaciones atirméticas.\n"
      ],
      "metadata": {
        "id": "Pmoxi3K8xPt_"
      }
    },
    {
      "cell_type": "markdown",
      "source": [
        "Algunos de los lenguajes populares que utilizan los científicos de datos son:\n",
        "1. R\n",
        "2. SQL\n",
        "3. Python"
      ],
      "metadata": {
        "id": "fRWP7jPetFBU"
      }
    },
    {
      "cell_type": "markdown",
      "source": [
        "Algunas de las bibliotecas comúnmente utilizadas por los científicos de datos incluyen:\n",
        "1. Panda\n",
        "2. Numpy\n",
        "3. Matplotlib"
      ],
      "metadata": {
        "id": "t55GAj5EtoGm"
      }
    },
    {
      "cell_type": "markdown",
      "source": [
        "| Data Science Tools |\n",
        "| -------------------|\n",
        "| Apache Zeppelin    |\n",
        "| RStudio            |     \n",
        "| Jupyter Notebook   |"
      ],
      "metadata": {
        "id": "3c4IrjNduL-8"
      }
    },
    {
      "cell_type": "markdown",
      "source": [
        "### A continuación, se muestran algunos ejemplos de evaluación de expresiones aritméticas en Python."
      ],
      "metadata": {
        "id": "Oe93ournu04D"
      }
    },
    {
      "cell_type": "code",
      "source": [
        "# Esta es una expresión aritmética simple para multiplicar y luego sumar números enteros.\n",
        "(3*4)+5\n"
      ],
      "metadata": {
        "colab": {
          "base_uri": "https://localhost:8080/"
        },
        "id": "1lfZVLwkvqD-",
        "outputId": "18115806-bfeb-43d1-f1f7-e65bdc25f2a3"
      },
      "execution_count": 2,
      "outputs": [
        {
          "output_type": "execute_result",
          "data": {
            "text/plain": [
              "17"
            ]
          },
          "metadata": {},
          "execution_count": 2
        }
      ]
    },
    {
      "cell_type": "code",
      "source": [
        "# Esto convertirá 200 minutos en horas buceando a 60.\n",
        "200 / 60"
      ],
      "metadata": {
        "colab": {
          "base_uri": "https://localhost:8080/"
        },
        "id": "BZoKK4thwWGD",
        "outputId": "921aa2c6-0025-47be-b100-35be234c0a13"
      },
      "execution_count": 3,
      "outputs": [
        {
          "output_type": "execute_result",
          "data": {
            "text/plain": [
              "3.3333333333333335"
            ]
          },
          "metadata": {},
          "execution_count": 3
        }
      ]
    },
    {
      "cell_type": "markdown",
      "source": [
        "## Autor\n",
        "Lissett Mardones G.\n"
      ],
      "metadata": {
        "id": "zVOHP1KJ0Awt"
      }
    }
  ]
}